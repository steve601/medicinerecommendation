{
 "cells": [
  {
   "cell_type": "markdown",
   "id": "aa9baca4",
   "metadata": {},
   "source": [
    "### importing libraries"
   ]
  },
  {
   "cell_type": "code",
   "execution_count": 1,
   "id": "b097a44a",
   "metadata": {},
   "outputs": [],
   "source": [
    "import pandas as pd\n",
    "import numpy as np"
   ]
  },
  {
   "cell_type": "markdown",
   "id": "fd44bc5b",
   "metadata": {},
   "source": [
    "### loading the data"
   ]
  },
  {
   "cell_type": "code",
   "execution_count": 2,
   "id": "e7b480b9",
   "metadata": {},
   "outputs": [
    {
     "data": {
      "text/html": [
       "<div>\n",
       "<style scoped>\n",
       "    .dataframe tbody tr th:only-of-type {\n",
       "        vertical-align: middle;\n",
       "    }\n",
       "\n",
       "    .dataframe tbody tr th {\n",
       "        vertical-align: top;\n",
       "    }\n",
       "\n",
       "    .dataframe thead th {\n",
       "        text-align: right;\n",
       "    }\n",
       "</style>\n",
       "<table border=\"1\" class=\"dataframe\">\n",
       "  <thead>\n",
       "    <tr style=\"text-align: right;\">\n",
       "      <th></th>\n",
       "      <th>Medicine Name</th>\n",
       "      <th>Composition</th>\n",
       "      <th>Uses</th>\n",
       "      <th>Side_effects</th>\n",
       "      <th>Image URL</th>\n",
       "      <th>Manufacturer</th>\n",
       "      <th>Excellent Review %</th>\n",
       "      <th>Average Review %</th>\n",
       "      <th>Poor Review %</th>\n",
       "    </tr>\n",
       "  </thead>\n",
       "  <tbody>\n",
       "    <tr>\n",
       "      <th>0</th>\n",
       "      <td>Avastin 400mg Injection</td>\n",
       "      <td>Bevacizumab (400mg)</td>\n",
       "      <td>Cancer of colon and rectum Non-small cell lun...</td>\n",
       "      <td>Rectal bleeding Taste change Headache Noseblee...</td>\n",
       "      <td>https://onemg.gumlet.io/l_watermark_346,w_480,...</td>\n",
       "      <td>Roche Products India Pvt Ltd</td>\n",
       "      <td>22</td>\n",
       "      <td>56</td>\n",
       "      <td>22</td>\n",
       "    </tr>\n",
       "    <tr>\n",
       "      <th>1</th>\n",
       "      <td>Augmentin 625 Duo Tablet</td>\n",
       "      <td>Amoxycillin  (500mg) +  Clavulanic Acid (125mg)</td>\n",
       "      <td>Treatment of Bacterial infections</td>\n",
       "      <td>Vomiting Nausea Diarrhea Mucocutaneous candidi...</td>\n",
       "      <td>https://onemg.gumlet.io/l_watermark_346,w_480,...</td>\n",
       "      <td>Glaxo SmithKline Pharmaceuticals Ltd</td>\n",
       "      <td>47</td>\n",
       "      <td>35</td>\n",
       "      <td>18</td>\n",
       "    </tr>\n",
       "    <tr>\n",
       "      <th>2</th>\n",
       "      <td>Azithral 500 Tablet</td>\n",
       "      <td>Azithromycin (500mg)</td>\n",
       "      <td>Treatment of Bacterial infections</td>\n",
       "      <td>Nausea Abdominal pain Diarrhea</td>\n",
       "      <td>https://onemg.gumlet.io/l_watermark_346,w_480,...</td>\n",
       "      <td>Alembic Pharmaceuticals Ltd</td>\n",
       "      <td>39</td>\n",
       "      <td>40</td>\n",
       "      <td>21</td>\n",
       "    </tr>\n",
       "    <tr>\n",
       "      <th>3</th>\n",
       "      <td>Ascoril LS Syrup</td>\n",
       "      <td>Ambroxol (30mg/5ml) + Levosalbutamol (1mg/5ml)...</td>\n",
       "      <td>Treatment of Cough with mucus</td>\n",
       "      <td>Nausea Vomiting Diarrhea Upset stomach Stomach...</td>\n",
       "      <td>https://onemg.gumlet.io/l_watermark_346,w_480,...</td>\n",
       "      <td>Glenmark Pharmaceuticals Ltd</td>\n",
       "      <td>24</td>\n",
       "      <td>41</td>\n",
       "      <td>35</td>\n",
       "    </tr>\n",
       "    <tr>\n",
       "      <th>4</th>\n",
       "      <td>Aciloc 150 Tablet</td>\n",
       "      <td>Ranitidine (150mg)</td>\n",
       "      <td>Treatment of Gastroesophageal reflux disease (...</td>\n",
       "      <td>Headache Diarrhea Gastrointestinal disturbance</td>\n",
       "      <td>https://onemg.gumlet.io/l_watermark_346,w_480,...</td>\n",
       "      <td>Cadila Pharmaceuticals Ltd</td>\n",
       "      <td>34</td>\n",
       "      <td>37</td>\n",
       "      <td>29</td>\n",
       "    </tr>\n",
       "  </tbody>\n",
       "</table>\n",
       "</div>"
      ],
      "text/plain": [
       "              Medicine Name  \\\n",
       "0   Avastin 400mg Injection   \n",
       "1  Augmentin 625 Duo Tablet   \n",
       "2       Azithral 500 Tablet   \n",
       "3          Ascoril LS Syrup   \n",
       "4         Aciloc 150 Tablet   \n",
       "\n",
       "                                         Composition  \\\n",
       "0                                Bevacizumab (400mg)   \n",
       "1    Amoxycillin  (500mg) +  Clavulanic Acid (125mg)   \n",
       "2                               Azithromycin (500mg)   \n",
       "3  Ambroxol (30mg/5ml) + Levosalbutamol (1mg/5ml)...   \n",
       "4                                 Ranitidine (150mg)   \n",
       "\n",
       "                                                Uses  \\\n",
       "0   Cancer of colon and rectum Non-small cell lun...   \n",
       "1                  Treatment of Bacterial infections   \n",
       "2                  Treatment of Bacterial infections   \n",
       "3                      Treatment of Cough with mucus   \n",
       "4  Treatment of Gastroesophageal reflux disease (...   \n",
       "\n",
       "                                        Side_effects  \\\n",
       "0  Rectal bleeding Taste change Headache Noseblee...   \n",
       "1  Vomiting Nausea Diarrhea Mucocutaneous candidi...   \n",
       "2                     Nausea Abdominal pain Diarrhea   \n",
       "3  Nausea Vomiting Diarrhea Upset stomach Stomach...   \n",
       "4     Headache Diarrhea Gastrointestinal disturbance   \n",
       "\n",
       "                                           Image URL  \\\n",
       "0  https://onemg.gumlet.io/l_watermark_346,w_480,...   \n",
       "1  https://onemg.gumlet.io/l_watermark_346,w_480,...   \n",
       "2  https://onemg.gumlet.io/l_watermark_346,w_480,...   \n",
       "3  https://onemg.gumlet.io/l_watermark_346,w_480,...   \n",
       "4  https://onemg.gumlet.io/l_watermark_346,w_480,...   \n",
       "\n",
       "                           Manufacturer  Excellent Review %  Average Review %  \\\n",
       "0          Roche Products India Pvt Ltd                  22                56   \n",
       "1  Glaxo SmithKline Pharmaceuticals Ltd                  47                35   \n",
       "2           Alembic Pharmaceuticals Ltd                  39                40   \n",
       "3          Glenmark Pharmaceuticals Ltd                  24                41   \n",
       "4            Cadila Pharmaceuticals Ltd                  34                37   \n",
       "\n",
       "   Poor Review %  \n",
       "0             22  \n",
       "1             18  \n",
       "2             21  \n",
       "3             35  \n",
       "4             29  "
      ]
     },
     "execution_count": 2,
     "metadata": {},
     "output_type": "execute_result"
    }
   ],
   "source": [
    "df = pd.read_csv('Medicine_Details.csv')\n",
    "df.head()"
   ]
  },
  {
   "cell_type": "code",
   "execution_count": 3,
   "id": "cca09309",
   "metadata": {},
   "outputs": [
    {
     "name": "stdout",
     "output_type": "stream",
     "text": [
      "<class 'pandas.core.frame.DataFrame'>\n",
      "RangeIndex: 11825 entries, 0 to 11824\n",
      "Data columns (total 9 columns):\n",
      " #   Column              Non-Null Count  Dtype \n",
      "---  ------              --------------  ----- \n",
      " 0   Medicine Name       11825 non-null  object\n",
      " 1   Composition         11825 non-null  object\n",
      " 2   Uses                11825 non-null  object\n",
      " 3   Side_effects        11825 non-null  object\n",
      " 4   Image URL           11825 non-null  object\n",
      " 5   Manufacturer        11825 non-null  object\n",
      " 6   Excellent Review %  11825 non-null  int64 \n",
      " 7   Average Review %    11825 non-null  int64 \n",
      " 8   Poor Review %       11825 non-null  int64 \n",
      "dtypes: int64(3), object(6)\n",
      "memory usage: 831.6+ KB\n"
     ]
    }
   ],
   "source": [
    "df.info()"
   ]
  },
  {
   "cell_type": "code",
   "execution_count": 4,
   "id": "804fe048",
   "metadata": {},
   "outputs": [],
   "source": [
    "df = df[:6000]"
   ]
  },
  {
   "cell_type": "markdown",
   "id": "1f924e75",
   "metadata": {},
   "source": [
    "### we're ging to build a content based recommender system,so we'll only choose columns that relate to the medicine"
   ]
  },
  {
   "cell_type": "code",
   "execution_count": 5,
   "id": "a809db76",
   "metadata": {},
   "outputs": [],
   "source": [
    "df = df[['Medicine Name','Composition','Uses','Side_effects','Image URL']]"
   ]
  },
  {
   "cell_type": "code",
   "execution_count": 6,
   "id": "ce6b98d5",
   "metadata": {},
   "outputs": [
    {
     "data": {
      "text/html": [
       "<div>\n",
       "<style scoped>\n",
       "    .dataframe tbody tr th:only-of-type {\n",
       "        vertical-align: middle;\n",
       "    }\n",
       "\n",
       "    .dataframe tbody tr th {\n",
       "        vertical-align: top;\n",
       "    }\n",
       "\n",
       "    .dataframe thead th {\n",
       "        text-align: right;\n",
       "    }\n",
       "</style>\n",
       "<table border=\"1\" class=\"dataframe\">\n",
       "  <thead>\n",
       "    <tr style=\"text-align: right;\">\n",
       "      <th></th>\n",
       "      <th>name</th>\n",
       "      <th>comp</th>\n",
       "      <th>uses</th>\n",
       "      <th>effects</th>\n",
       "      <th>img</th>\n",
       "    </tr>\n",
       "  </thead>\n",
       "  <tbody>\n",
       "    <tr>\n",
       "      <th>0</th>\n",
       "      <td>Avastin 400mg Injection</td>\n",
       "      <td>Bevacizumab (400mg)</td>\n",
       "      <td>Cancer of colon and rectum Non-small cell lun...</td>\n",
       "      <td>Rectal bleeding Taste change Headache Noseblee...</td>\n",
       "      <td>https://onemg.gumlet.io/l_watermark_346,w_480,...</td>\n",
       "    </tr>\n",
       "    <tr>\n",
       "      <th>1</th>\n",
       "      <td>Augmentin 625 Duo Tablet</td>\n",
       "      <td>Amoxycillin  (500mg) +  Clavulanic Acid (125mg)</td>\n",
       "      <td>Treatment of Bacterial infections</td>\n",
       "      <td>Vomiting Nausea Diarrhea Mucocutaneous candidi...</td>\n",
       "      <td>https://onemg.gumlet.io/l_watermark_346,w_480,...</td>\n",
       "    </tr>\n",
       "    <tr>\n",
       "      <th>2</th>\n",
       "      <td>Azithral 500 Tablet</td>\n",
       "      <td>Azithromycin (500mg)</td>\n",
       "      <td>Treatment of Bacterial infections</td>\n",
       "      <td>Nausea Abdominal pain Diarrhea</td>\n",
       "      <td>https://onemg.gumlet.io/l_watermark_346,w_480,...</td>\n",
       "    </tr>\n",
       "    <tr>\n",
       "      <th>3</th>\n",
       "      <td>Ascoril LS Syrup</td>\n",
       "      <td>Ambroxol (30mg/5ml) + Levosalbutamol (1mg/5ml)...</td>\n",
       "      <td>Treatment of Cough with mucus</td>\n",
       "      <td>Nausea Vomiting Diarrhea Upset stomach Stomach...</td>\n",
       "      <td>https://onemg.gumlet.io/l_watermark_346,w_480,...</td>\n",
       "    </tr>\n",
       "    <tr>\n",
       "      <th>4</th>\n",
       "      <td>Aciloc 150 Tablet</td>\n",
       "      <td>Ranitidine (150mg)</td>\n",
       "      <td>Treatment of Gastroesophageal reflux disease (...</td>\n",
       "      <td>Headache Diarrhea Gastrointestinal disturbance</td>\n",
       "      <td>https://onemg.gumlet.io/l_watermark_346,w_480,...</td>\n",
       "    </tr>\n",
       "  </tbody>\n",
       "</table>\n",
       "</div>"
      ],
      "text/plain": [
       "                       name  \\\n",
       "0   Avastin 400mg Injection   \n",
       "1  Augmentin 625 Duo Tablet   \n",
       "2       Azithral 500 Tablet   \n",
       "3          Ascoril LS Syrup   \n",
       "4         Aciloc 150 Tablet   \n",
       "\n",
       "                                                comp  \\\n",
       "0                                Bevacizumab (400mg)   \n",
       "1    Amoxycillin  (500mg) +  Clavulanic Acid (125mg)   \n",
       "2                               Azithromycin (500mg)   \n",
       "3  Ambroxol (30mg/5ml) + Levosalbutamol (1mg/5ml)...   \n",
       "4                                 Ranitidine (150mg)   \n",
       "\n",
       "                                                uses  \\\n",
       "0   Cancer of colon and rectum Non-small cell lun...   \n",
       "1                  Treatment of Bacterial infections   \n",
       "2                  Treatment of Bacterial infections   \n",
       "3                      Treatment of Cough with mucus   \n",
       "4  Treatment of Gastroesophageal reflux disease (...   \n",
       "\n",
       "                                             effects  \\\n",
       "0  Rectal bleeding Taste change Headache Noseblee...   \n",
       "1  Vomiting Nausea Diarrhea Mucocutaneous candidi...   \n",
       "2                     Nausea Abdominal pain Diarrhea   \n",
       "3  Nausea Vomiting Diarrhea Upset stomach Stomach...   \n",
       "4     Headache Diarrhea Gastrointestinal disturbance   \n",
       "\n",
       "                                                 img  \n",
       "0  https://onemg.gumlet.io/l_watermark_346,w_480,...  \n",
       "1  https://onemg.gumlet.io/l_watermark_346,w_480,...  \n",
       "2  https://onemg.gumlet.io/l_watermark_346,w_480,...  \n",
       "3  https://onemg.gumlet.io/l_watermark_346,w_480,...  \n",
       "4  https://onemg.gumlet.io/l_watermark_346,w_480,...  "
      ]
     },
     "execution_count": 6,
     "metadata": {},
     "output_type": "execute_result"
    }
   ],
   "source": [
    "df.columns = ['name','comp','uses','effects','img']\n",
    "df.head()"
   ]
  },
  {
   "cell_type": "code",
   "execution_count": 7,
   "id": "8f71099b",
   "metadata": {},
   "outputs": [
    {
     "data": {
      "text/plain": [
       "name       0\n",
       "comp       0\n",
       "uses       0\n",
       "effects    0\n",
       "img        0\n",
       "dtype: int64"
      ]
     },
     "execution_count": 7,
     "metadata": {},
     "output_type": "execute_result"
    }
   ],
   "source": [
    "df.isna().sum()"
   ]
  },
  {
   "cell_type": "code",
   "execution_count": 8,
   "id": "c2eee12a",
   "metadata": {},
   "outputs": [
    {
     "data": {
      "text/plain": [
       "26"
      ]
     },
     "execution_count": 8,
     "metadata": {},
     "output_type": "execute_result"
    }
   ],
   "source": [
    "df.duplicated().sum()"
   ]
  },
  {
   "cell_type": "code",
   "execution_count": 15,
   "id": "22cb0a7c",
   "metadata": {},
   "outputs": [],
   "source": [
    "df.drop_duplicates(inplace=True)"
   ]
  },
  {
   "cell_type": "code",
   "execution_count": 16,
   "id": "a5ac65d9",
   "metadata": {},
   "outputs": [
    {
     "data": {
      "text/plain": [
       "name\n",
       "Lulifin Cream            4\n",
       "Lulizol Cream            3\n",
       "Hexidine Mouth Wash      3\n",
       "Livoluk Oral Solution    3\n",
       "Melgain Lotion           3\n",
       "                        ..\n",
       "Eslo-Tel 2.5mg Tablet    1\n",
       "Etova-MR Forte Tablet    1\n",
       "Esipram 10 Tablet        1\n",
       "Entehep 0.5 Tablet       1\n",
       "Mataret Cream            1\n",
       "Name: count, Length: 5807, dtype: int64"
      ]
     },
     "execution_count": 16,
     "metadata": {},
     "output_type": "execute_result"
    }
   ],
   "source": [
    "df.name.value_counts()"
   ]
  },
  {
   "cell_type": "code",
   "execution_count": 18,
   "id": "2f40505c",
   "metadata": {},
   "outputs": [
    {
     "name": "stdout",
     "output_type": "stream",
     "text": [
      "name has 167 duplicates\n",
      "comp has 3768 duplicates\n",
      "uses has 5420 duplicates\n",
      "effects has 4896 duplicates\n",
      "img has 0 duplicates\n"
     ]
    }
   ],
   "source": [
    "for column in df.columns:\n",
    "    print(f\"{column} has {df[column].duplicated().sum()} duplicates\")"
   ]
  },
  {
   "cell_type": "code",
   "execution_count": 19,
   "id": "618a2075",
   "metadata": {
    "scrolled": true
   },
   "outputs": [
    {
     "data": {
      "text/plain": [
       "167"
      ]
     },
     "execution_count": 19,
     "metadata": {},
     "output_type": "execute_result"
    }
   ],
   "source": [
    "df.name.duplicated().sum()"
   ]
  },
  {
   "cell_type": "code",
   "execution_count": 20,
   "id": "8f501be6",
   "metadata": {},
   "outputs": [],
   "source": [
    "df.name.drop_duplicates(inplace=True)"
   ]
  },
  {
   "cell_type": "code",
   "execution_count": 21,
   "id": "75bad636",
   "metadata": {},
   "outputs": [
    {
     "data": {
      "text/plain": [
       "name       0\n",
       "comp       0\n",
       "uses       0\n",
       "effects    0\n",
       "img        0\n",
       "dtype: int64"
      ]
     },
     "execution_count": 21,
     "metadata": {},
     "output_type": "execute_result"
    }
   ],
   "source": [
    "df.isna().sum()"
   ]
  },
  {
   "cell_type": "code",
   "execution_count": 22,
   "id": "05c9b8e3",
   "metadata": {},
   "outputs": [
    {
     "data": {
      "text/html": [
       "<div>\n",
       "<style scoped>\n",
       "    .dataframe tbody tr th:only-of-type {\n",
       "        vertical-align: middle;\n",
       "    }\n",
       "\n",
       "    .dataframe tbody tr th {\n",
       "        vertical-align: top;\n",
       "    }\n",
       "\n",
       "    .dataframe thead th {\n",
       "        text-align: right;\n",
       "    }\n",
       "</style>\n",
       "<table border=\"1\" class=\"dataframe\">\n",
       "  <thead>\n",
       "    <tr style=\"text-align: right;\">\n",
       "      <th></th>\n",
       "      <th>name</th>\n",
       "      <th>comp</th>\n",
       "      <th>uses</th>\n",
       "      <th>effects</th>\n",
       "      <th>img</th>\n",
       "    </tr>\n",
       "  </thead>\n",
       "  <tbody>\n",
       "    <tr>\n",
       "      <th>0</th>\n",
       "      <td>Avastin 400mg Injection</td>\n",
       "      <td>Bevacizumab (400mg)</td>\n",
       "      <td>Cancer of colon and rectum Non-small cell lun...</td>\n",
       "      <td>Rectal bleeding Taste change Headache Noseblee...</td>\n",
       "      <td>https://onemg.gumlet.io/l_watermark_346,w_480,...</td>\n",
       "    </tr>\n",
       "    <tr>\n",
       "      <th>1</th>\n",
       "      <td>Augmentin 625 Duo Tablet</td>\n",
       "      <td>Amoxycillin  (500mg) +  Clavulanic Acid (125mg)</td>\n",
       "      <td>Treatment of Bacterial infections</td>\n",
       "      <td>Vomiting Nausea Diarrhea Mucocutaneous candidi...</td>\n",
       "      <td>https://onemg.gumlet.io/l_watermark_346,w_480,...</td>\n",
       "    </tr>\n",
       "    <tr>\n",
       "      <th>2</th>\n",
       "      <td>Azithral 500 Tablet</td>\n",
       "      <td>Azithromycin (500mg)</td>\n",
       "      <td>Treatment of Bacterial infections</td>\n",
       "      <td>Nausea Abdominal pain Diarrhea</td>\n",
       "      <td>https://onemg.gumlet.io/l_watermark_346,w_480,...</td>\n",
       "    </tr>\n",
       "    <tr>\n",
       "      <th>3</th>\n",
       "      <td>Ascoril LS Syrup</td>\n",
       "      <td>Ambroxol (30mg/5ml) + Levosalbutamol (1mg/5ml)...</td>\n",
       "      <td>Treatment of Cough with mucus</td>\n",
       "      <td>Nausea Vomiting Diarrhea Upset stomach Stomach...</td>\n",
       "      <td>https://onemg.gumlet.io/l_watermark_346,w_480,...</td>\n",
       "    </tr>\n",
       "    <tr>\n",
       "      <th>4</th>\n",
       "      <td>Aciloc 150 Tablet</td>\n",
       "      <td>Ranitidine (150mg)</td>\n",
       "      <td>Treatment of Gastroesophageal reflux disease (...</td>\n",
       "      <td>Headache Diarrhea Gastrointestinal disturbance</td>\n",
       "      <td>https://onemg.gumlet.io/l_watermark_346,w_480,...</td>\n",
       "    </tr>\n",
       "  </tbody>\n",
       "</table>\n",
       "</div>"
      ],
      "text/plain": [
       "                       name  \\\n",
       "0   Avastin 400mg Injection   \n",
       "1  Augmentin 625 Duo Tablet   \n",
       "2       Azithral 500 Tablet   \n",
       "3          Ascoril LS Syrup   \n",
       "4         Aciloc 150 Tablet   \n",
       "\n",
       "                                                comp  \\\n",
       "0                                Bevacizumab (400mg)   \n",
       "1    Amoxycillin  (500mg) +  Clavulanic Acid (125mg)   \n",
       "2                               Azithromycin (500mg)   \n",
       "3  Ambroxol (30mg/5ml) + Levosalbutamol (1mg/5ml)...   \n",
       "4                                 Ranitidine (150mg)   \n",
       "\n",
       "                                                uses  \\\n",
       "0   Cancer of colon and rectum Non-small cell lun...   \n",
       "1                  Treatment of Bacterial infections   \n",
       "2                  Treatment of Bacterial infections   \n",
       "3                      Treatment of Cough with mucus   \n",
       "4  Treatment of Gastroesophageal reflux disease (...   \n",
       "\n",
       "                                             effects  \\\n",
       "0  Rectal bleeding Taste change Headache Noseblee...   \n",
       "1  Vomiting Nausea Diarrhea Mucocutaneous candidi...   \n",
       "2                     Nausea Abdominal pain Diarrhea   \n",
       "3  Nausea Vomiting Diarrhea Upset stomach Stomach...   \n",
       "4     Headache Diarrhea Gastrointestinal disturbance   \n",
       "\n",
       "                                                 img  \n",
       "0  https://onemg.gumlet.io/l_watermark_346,w_480,...  \n",
       "1  https://onemg.gumlet.io/l_watermark_346,w_480,...  \n",
       "2  https://onemg.gumlet.io/l_watermark_346,w_480,...  \n",
       "3  https://onemg.gumlet.io/l_watermark_346,w_480,...  \n",
       "4  https://onemg.gumlet.io/l_watermark_346,w_480,...  "
      ]
     },
     "execution_count": 22,
     "metadata": {},
     "output_type": "execute_result"
    }
   ],
   "source": [
    "df.head()"
   ]
  },
  {
   "cell_type": "code",
   "execution_count": 23,
   "id": "fac36d78",
   "metadata": {},
   "outputs": [],
   "source": [
    "df.comp = df.comp.apply(lambda x: x.split())\n",
    "df.uses = df.uses.apply(lambda x: x.split())\n",
    "df.effects = df.effects.apply(lambda x: x.split())"
   ]
  },
  {
   "cell_type": "code",
   "execution_count": 24,
   "id": "17c0fb94",
   "metadata": {},
   "outputs": [
    {
     "data": {
      "text/html": [
       "<div>\n",
       "<style scoped>\n",
       "    .dataframe tbody tr th:only-of-type {\n",
       "        vertical-align: middle;\n",
       "    }\n",
       "\n",
       "    .dataframe tbody tr th {\n",
       "        vertical-align: top;\n",
       "    }\n",
       "\n",
       "    .dataframe thead th {\n",
       "        text-align: right;\n",
       "    }\n",
       "</style>\n",
       "<table border=\"1\" class=\"dataframe\">\n",
       "  <thead>\n",
       "    <tr style=\"text-align: right;\">\n",
       "      <th></th>\n",
       "      <th>name</th>\n",
       "      <th>comp</th>\n",
       "      <th>uses</th>\n",
       "      <th>effects</th>\n",
       "      <th>img</th>\n",
       "      <th>details</th>\n",
       "    </tr>\n",
       "  </thead>\n",
       "  <tbody>\n",
       "    <tr>\n",
       "      <th>0</th>\n",
       "      <td>Avastin 400mg Injection</td>\n",
       "      <td>[Bevacizumab, (400mg)]</td>\n",
       "      <td>[Cancer, of, colon, and, rectum, Non-small, ce...</td>\n",
       "      <td>[Rectal, bleeding, Taste, change, Headache, No...</td>\n",
       "      <td>https://onemg.gumlet.io/l_watermark_346,w_480,...</td>\n",
       "      <td>[Bevacizumab, (400mg), Cancer, of, colon, and,...</td>\n",
       "    </tr>\n",
       "    <tr>\n",
       "      <th>1</th>\n",
       "      <td>Augmentin 625 Duo Tablet</td>\n",
       "      <td>[Amoxycillin, (500mg), +, Clavulanic, Acid, (1...</td>\n",
       "      <td>[Treatment, of, Bacterial, infections]</td>\n",
       "      <td>[Vomiting, Nausea, Diarrhea, Mucocutaneous, ca...</td>\n",
       "      <td>https://onemg.gumlet.io/l_watermark_346,w_480,...</td>\n",
       "      <td>[Amoxycillin, (500mg), +, Clavulanic, Acid, (1...</td>\n",
       "    </tr>\n",
       "    <tr>\n",
       "      <th>2</th>\n",
       "      <td>Azithral 500 Tablet</td>\n",
       "      <td>[Azithromycin, (500mg)]</td>\n",
       "      <td>[Treatment, of, Bacterial, infections]</td>\n",
       "      <td>[Nausea, Abdominal, pain, Diarrhea]</td>\n",
       "      <td>https://onemg.gumlet.io/l_watermark_346,w_480,...</td>\n",
       "      <td>[Azithromycin, (500mg), Treatment, of, Bacteri...</td>\n",
       "    </tr>\n",
       "    <tr>\n",
       "      <th>3</th>\n",
       "      <td>Ascoril LS Syrup</td>\n",
       "      <td>[Ambroxol, (30mg/5ml), +, Levosalbutamol, (1mg...</td>\n",
       "      <td>[Treatment, of, Cough, with, mucus]</td>\n",
       "      <td>[Nausea, Vomiting, Diarrhea, Upset, stomach, S...</td>\n",
       "      <td>https://onemg.gumlet.io/l_watermark_346,w_480,...</td>\n",
       "      <td>[Ambroxol, (30mg/5ml), +, Levosalbutamol, (1mg...</td>\n",
       "    </tr>\n",
       "    <tr>\n",
       "      <th>4</th>\n",
       "      <td>Aciloc 150 Tablet</td>\n",
       "      <td>[Ranitidine, (150mg)]</td>\n",
       "      <td>[Treatment, of, Gastroesophageal, reflux, dise...</td>\n",
       "      <td>[Headache, Diarrhea, Gastrointestinal, disturb...</td>\n",
       "      <td>https://onemg.gumlet.io/l_watermark_346,w_480,...</td>\n",
       "      <td>[Ranitidine, (150mg), Treatment, of, Gastroeso...</td>\n",
       "    </tr>\n",
       "  </tbody>\n",
       "</table>\n",
       "</div>"
      ],
      "text/plain": [
       "                       name  \\\n",
       "0   Avastin 400mg Injection   \n",
       "1  Augmentin 625 Duo Tablet   \n",
       "2       Azithral 500 Tablet   \n",
       "3          Ascoril LS Syrup   \n",
       "4         Aciloc 150 Tablet   \n",
       "\n",
       "                                                comp  \\\n",
       "0                             [Bevacizumab, (400mg)]   \n",
       "1  [Amoxycillin, (500mg), +, Clavulanic, Acid, (1...   \n",
       "2                            [Azithromycin, (500mg)]   \n",
       "3  [Ambroxol, (30mg/5ml), +, Levosalbutamol, (1mg...   \n",
       "4                              [Ranitidine, (150mg)]   \n",
       "\n",
       "                                                uses  \\\n",
       "0  [Cancer, of, colon, and, rectum, Non-small, ce...   \n",
       "1             [Treatment, of, Bacterial, infections]   \n",
       "2             [Treatment, of, Bacterial, infections]   \n",
       "3                [Treatment, of, Cough, with, mucus]   \n",
       "4  [Treatment, of, Gastroesophageal, reflux, dise...   \n",
       "\n",
       "                                             effects  \\\n",
       "0  [Rectal, bleeding, Taste, change, Headache, No...   \n",
       "1  [Vomiting, Nausea, Diarrhea, Mucocutaneous, ca...   \n",
       "2                [Nausea, Abdominal, pain, Diarrhea]   \n",
       "3  [Nausea, Vomiting, Diarrhea, Upset, stomach, S...   \n",
       "4  [Headache, Diarrhea, Gastrointestinal, disturb...   \n",
       "\n",
       "                                                 img  \\\n",
       "0  https://onemg.gumlet.io/l_watermark_346,w_480,...   \n",
       "1  https://onemg.gumlet.io/l_watermark_346,w_480,...   \n",
       "2  https://onemg.gumlet.io/l_watermark_346,w_480,...   \n",
       "3  https://onemg.gumlet.io/l_watermark_346,w_480,...   \n",
       "4  https://onemg.gumlet.io/l_watermark_346,w_480,...   \n",
       "\n",
       "                                             details  \n",
       "0  [Bevacizumab, (400mg), Cancer, of, colon, and,...  \n",
       "1  [Amoxycillin, (500mg), +, Clavulanic, Acid, (1...  \n",
       "2  [Azithromycin, (500mg), Treatment, of, Bacteri...  \n",
       "3  [Ambroxol, (30mg/5ml), +, Levosalbutamol, (1mg...  \n",
       "4  [Ranitidine, (150mg), Treatment, of, Gastroeso...  "
      ]
     },
     "execution_count": 24,
     "metadata": {},
     "output_type": "execute_result"
    }
   ],
   "source": [
    "df['details'] = df.comp + df.uses + df.effects\n",
    "df.head()"
   ]
  },
  {
   "cell_type": "code",
   "execution_count": 25,
   "id": "8565feef",
   "metadata": {},
   "outputs": [],
   "source": [
    "df.drop(['comp','uses','effects'],axis=1,inplace=True)"
   ]
  },
  {
   "cell_type": "code",
   "execution_count": 26,
   "id": "001a2ff2",
   "metadata": {},
   "outputs": [],
   "source": [
    "df['details'] = df['details'].apply(lambda x:\" \".join(x))"
   ]
  },
  {
   "cell_type": "code",
   "execution_count": 27,
   "id": "4462de45",
   "metadata": {},
   "outputs": [
    {
     "data": {
      "text/html": [
       "<div>\n",
       "<style scoped>\n",
       "    .dataframe tbody tr th:only-of-type {\n",
       "        vertical-align: middle;\n",
       "    }\n",
       "\n",
       "    .dataframe tbody tr th {\n",
       "        vertical-align: top;\n",
       "    }\n",
       "\n",
       "    .dataframe thead th {\n",
       "        text-align: right;\n",
       "    }\n",
       "</style>\n",
       "<table border=\"1\" class=\"dataframe\">\n",
       "  <thead>\n",
       "    <tr style=\"text-align: right;\">\n",
       "      <th></th>\n",
       "      <th>name</th>\n",
       "      <th>img</th>\n",
       "      <th>details</th>\n",
       "    </tr>\n",
       "  </thead>\n",
       "  <tbody>\n",
       "    <tr>\n",
       "      <th>0</th>\n",
       "      <td>Avastin 400mg Injection</td>\n",
       "      <td>https://onemg.gumlet.io/l_watermark_346,w_480,...</td>\n",
       "      <td>Bevacizumab (400mg) Cancer of colon and rectum...</td>\n",
       "    </tr>\n",
       "    <tr>\n",
       "      <th>1</th>\n",
       "      <td>Augmentin 625 Duo Tablet</td>\n",
       "      <td>https://onemg.gumlet.io/l_watermark_346,w_480,...</td>\n",
       "      <td>Amoxycillin (500mg) + Clavulanic Acid (125mg) ...</td>\n",
       "    </tr>\n",
       "    <tr>\n",
       "      <th>2</th>\n",
       "      <td>Azithral 500 Tablet</td>\n",
       "      <td>https://onemg.gumlet.io/l_watermark_346,w_480,...</td>\n",
       "      <td>Azithromycin (500mg) Treatment of Bacterial in...</td>\n",
       "    </tr>\n",
       "    <tr>\n",
       "      <th>3</th>\n",
       "      <td>Ascoril LS Syrup</td>\n",
       "      <td>https://onemg.gumlet.io/l_watermark_346,w_480,...</td>\n",
       "      <td>Ambroxol (30mg/5ml) + Levosalbutamol (1mg/5ml)...</td>\n",
       "    </tr>\n",
       "    <tr>\n",
       "      <th>4</th>\n",
       "      <td>Aciloc 150 Tablet</td>\n",
       "      <td>https://onemg.gumlet.io/l_watermark_346,w_480,...</td>\n",
       "      <td>Ranitidine (150mg) Treatment of Gastroesophage...</td>\n",
       "    </tr>\n",
       "  </tbody>\n",
       "</table>\n",
       "</div>"
      ],
      "text/plain": [
       "                       name  \\\n",
       "0   Avastin 400mg Injection   \n",
       "1  Augmentin 625 Duo Tablet   \n",
       "2       Azithral 500 Tablet   \n",
       "3          Ascoril LS Syrup   \n",
       "4         Aciloc 150 Tablet   \n",
       "\n",
       "                                                 img  \\\n",
       "0  https://onemg.gumlet.io/l_watermark_346,w_480,...   \n",
       "1  https://onemg.gumlet.io/l_watermark_346,w_480,...   \n",
       "2  https://onemg.gumlet.io/l_watermark_346,w_480,...   \n",
       "3  https://onemg.gumlet.io/l_watermark_346,w_480,...   \n",
       "4  https://onemg.gumlet.io/l_watermark_346,w_480,...   \n",
       "\n",
       "                                             details  \n",
       "0  Bevacizumab (400mg) Cancer of colon and rectum...  \n",
       "1  Amoxycillin (500mg) + Clavulanic Acid (125mg) ...  \n",
       "2  Azithromycin (500mg) Treatment of Bacterial in...  \n",
       "3  Ambroxol (30mg/5ml) + Levosalbutamol (1mg/5ml)...  \n",
       "4  Ranitidine (150mg) Treatment of Gastroesophage...  "
      ]
     },
     "execution_count": 27,
     "metadata": {},
     "output_type": "execute_result"
    }
   ],
   "source": [
    "df.head()"
   ]
  },
  {
   "cell_type": "code",
   "execution_count": 28,
   "id": "e7a7ee26",
   "metadata": {},
   "outputs": [],
   "source": [
    "df.details = df.details.str.lower()"
   ]
  },
  {
   "cell_type": "code",
   "execution_count": 29,
   "id": "2cb022ba",
   "metadata": {},
   "outputs": [],
   "source": [
    "from sklearn.feature_extraction.text import TfidfVectorizer\n",
    "from sklearn.metrics.pairwise import cosine_similarity"
   ]
  },
  {
   "cell_type": "markdown",
   "id": "3a9e43e2",
   "metadata": {},
   "source": [
    "### numerical representation of details"
   ]
  },
  {
   "cell_type": "code",
   "execution_count": 30,
   "id": "31ee27cb",
   "metadata": {},
   "outputs": [],
   "source": [
    "vect = TfidfVectorizer()\n",
    "vector = vect.fit_transform(df['details'])"
   ]
  },
  {
   "cell_type": "code",
   "execution_count": 31,
   "id": "932449ad",
   "metadata": {},
   "outputs": [],
   "source": [
    "cosine = cosine_similarity(vector)"
   ]
  },
  {
   "cell_type": "markdown",
   "id": "633ee50b",
   "metadata": {},
   "source": [
    "### performing recommendation"
   ]
  },
  {
   "cell_type": "code",
   "execution_count": 32,
   "id": "39b28f78",
   "metadata": {},
   "outputs": [],
   "source": [
    "#making recommendation\n",
    "def reccomend(new_medicine):\n",
    "    # obtaining the index of the new person from the dataframe\n",
    "    ind = df[df['name'] == new_medicine].index[0]\n",
    "    #'cosine[ind]' obtains the similarity for the 'new person','list(enumerate())'  creates a list of an \n",
    "    # iterable that produces pairs of (index, value),'sorted' sorts the list, 'reverse=True' sorts\n",
    "    # the list in descending order rather than default ascending order,'key = lambda x:x[1]' specifies that \n",
    "    # list should be sorted using the similarity not its index i.e [(3,0.98),(2,0.67),(1,0.45)]\n",
    "    distance = sorted(list(enumerate(cosine[ind])),reverse = True,key = lambda x: x[1])\n",
    "    recos = []\n",
    "    for i in distance[1:6]:\n",
    "        recos.append(df['name'].iloc[i[0]])\n",
    "        \n",
    "    return recos"
   ]
  },
  {
   "cell_type": "code",
   "execution_count": 35,
   "id": "1a350ce8",
   "metadata": {},
   "outputs": [],
   "source": [
    "results = reccomend('Ascoril LS Syrup')"
   ]
  },
  {
   "cell_type": "code",
   "execution_count": 36,
   "id": "b70cf1dc",
   "metadata": {},
   "outputs": [
    {
     "data": {
      "text/plain": [
       "['Ambrodil-LX Syrup',\n",
       " 'Asthakind-LS Expectorant Cola Sugar Free',\n",
       " 'Asthalin AX Syrup',\n",
       " 'Ambrolite Levo Syrup',\n",
       " 'Bro-Zedex LS Kid Expectorant Raspberry']"
      ]
     },
     "execution_count": 36,
     "metadata": {},
     "output_type": "execute_result"
    }
   ],
   "source": [
    "results"
   ]
  },
  {
   "cell_type": "markdown",
   "id": "aee1c180",
   "metadata": {},
   "source": [
    "### saving objects"
   ]
  },
  {
   "cell_type": "code",
   "execution_count": 37,
   "id": "25b1a4f1",
   "metadata": {
    "scrolled": true
   },
   "outputs": [],
   "source": [
    "import pickle\n",
    "data = {'similarity':cosine,'data':df}\n",
    "with open('medicine.pkl','wb') as file:\n",
    "    pickle.dump(data,file)"
   ]
  },
  {
   "cell_type": "code",
   "execution_count": null,
   "id": "387130a5",
   "metadata": {},
   "outputs": [],
   "source": []
  }
 ],
 "metadata": {
  "kernelspec": {
   "display_name": "Python 3 (ipykernel)",
   "language": "python",
   "name": "python3"
  },
  "language_info": {
   "codemirror_mode": {
    "name": "ipython",
    "version": 3
   },
   "file_extension": ".py",
   "mimetype": "text/x-python",
   "name": "python",
   "nbconvert_exporter": "python",
   "pygments_lexer": "ipython3",
   "version": "3.10.9"
  }
 },
 "nbformat": 4,
 "nbformat_minor": 5
}
